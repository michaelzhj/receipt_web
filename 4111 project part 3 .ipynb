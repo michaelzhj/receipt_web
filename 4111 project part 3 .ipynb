{
 "cells": [
  {
   "cell_type": "code",
   "execution_count": 2,
   "id": "62ef10c8",
   "metadata": {},
   "outputs": [],
   "source": [
    "import os\n",
    "  # accessible as a variable in index.html:\n",
    "from sqlalchemy import *\n",
    "from sqlalchemy.pool import NullPool\n",
    "from flask import Flask, request, render_template, g, redirect, Response,url_for\n",
    "\n",
    "try:\n",
    "    \n",
    "    tmpl_dir = os.path.join(os.path.dirname(os.path.abspath(__file__)), 'templates')\n",
    "\n",
    "except NameError:\n",
    "    # Fallback for interactive environments like Jupyter notebooks\n",
    "    # Manually specify the path to your 'templates' directory here\n",
    "    tmpl_dir = os.path.join(os.getcwd(), 'templates')\n",
    "    \n",
    "#app = Flask(__name__, template_folder=tmpl_dir)\n"
   ]
  },
  {
   "cell_type": "code",
   "execution_count": 3,
   "id": "97d68864",
   "metadata": {},
   "outputs": [],
   "source": [
    "DATABASE_USERNAME = \"hz2906\"\n",
    "DATABASE_PASSWRD = \"763092Kgb!\"\n",
    "DATABASE_HOST = \"35.212.75.104\" # change to 34.28.53.86 if you used database 2 for part 2\n",
    "DATABASEURI = f\"postgresql://{DATABASE_USERNAME}:{DATABASE_PASSWRD}@{DATABASE_HOST}/proj1part2\""
   ]
  },
  {
   "cell_type": "code",
   "execution_count": 4,
   "id": "7d5d3d51",
   "metadata": {},
   "outputs": [],
   "source": [
    "engine = create_engine(DATABASEURI)"
   ]
  },
  {
   "cell_type": "code",
   "execution_count": 5,
   "id": "b6ea7c66",
   "metadata": {},
   "outputs": [],
   "source": [
    "with engine.connect() as conn:\n",
    "    delete_table_command=\"\"\"\n",
    "    DROP TABLE test;\n",
    "    \"\"\"\n",
    "    res = conn.execute(text(delete_table_command))\n",
    "    \n",
    "    create_table_command = \"\"\"\n",
    "    CREATE TABLE IF NOT EXISTS test (\n",
    "    id serial,\n",
    "    name text\n",
    "    )\n",
    "    \"\"\"\n",
    "    res = conn.execute(text(create_table_command))\n",
    "    insert_table_command = \"\"\"INSERT INTO test(name) VALUES ('grace hopper'), ('alan turing'), ('ada lovelace')\"\"\"\n",
    "    res = conn.execute(text(insert_table_command))\n",
    "    conn.commit()\n",
    "    # you need to commit for create, insert, update queries to reflect"
   ]
  },
  {
   "cell_type": "code",
   "execution_count": 6,
   "id": "31452235",
   "metadata": {},
   "outputs": [
    {
     "name": "stdout",
     "output_type": "stream",
     "text": [
      "[3, 'ada lovelace']\n"
     ]
    }
   ],
   "source": [
    "with engine.connect() as conn:\n",
    "    cursor = conn.execute(text(\"select * FROM test\"))\n",
    "    record = cursor.fetchone()\n",
    "    second_record = cursor.fetchone()\n",
    "    #print(record)\n",
    "    for row in cursor:\n",
    "        print (list(row))\n",
    "\n"
   ]
  },
  {
   "cell_type": "code",
   "execution_count": 7,
   "id": "4efa3a76",
   "metadata": {
    "scrolled": true
   },
   "outputs": [
    {
     "name": "stdout",
     "output_type": "stream",
     "text": [
      " * Serving Flask app '__main__'\n",
      " * Debug mode: off\n"
     ]
    },
    {
     "name": "stderr",
     "output_type": "stream",
     "text": [
      "\u001b[31m\u001b[1mWARNING: This is a development server. Do not use it in a production deployment. Use a production WSGI server instead.\u001b[0m\n",
      " * Running on http://127.0.0.1:5000\n",
      "\u001b[33mPress CTRL+C to quit\u001b[0m\n",
      "127.0.0.1 - - [29/Mar/2024 12:05:18] \"GET / HTTP/1.1\" 200 -\n",
      "127.0.0.1 - - [29/Mar/2024 12:05:19] \"GET / HTTP/1.1\" 200 -\n",
      "127.0.0.1 - - [29/Mar/2024 12:05:20] \"GET / HTTP/1.1\" 200 -\n",
      "127.0.0.1 - - [29/Mar/2024 12:05:20] \"GET / HTTP/1.1\" 200 -\n",
      "127.0.0.1 - - [29/Mar/2024 12:05:21] \"GET / HTTP/1.1\" 200 -\n",
      "127.0.0.1 - - [29/Mar/2024 12:05:22] \"GET / HTTP/1.1\" 200 -\n",
      "127.0.0.1 - - [29/Mar/2024 12:05:26] \"GET / HTTP/1.1\" 200 -\n",
      "127.0.0.1 - - [29/Mar/2024 12:05:26] \"GET / HTTP/1.1\" 200 -\n",
      "127.0.0.1 - - [29/Mar/2024 12:05:26] \"GET / HTTP/1.1\" 200 -\n",
      "127.0.0.1 - - [29/Mar/2024 12:05:26] \"GET / HTTP/1.1\" 200 -\n",
      "127.0.0.1 - - [29/Mar/2024 12:05:30] \"GET / HTTP/1.1\" 200 -\n",
      "127.0.0.1 - - [29/Mar/2024 12:05:32] \"GET / HTTP/1.1\" 200 -\n",
      "127.0.0.1 - - [29/Mar/2024 12:05:32] \"GET / HTTP/1.1\" 200 -\n",
      "127.0.0.1 - - [29/Mar/2024 12:05:33] \"GET / HTTP/1.1\" 200 -\n",
      "127.0.0.1 - - [29/Mar/2024 12:05:34] \"GET / HTTP/1.1\" 200 -\n"
     ]
    }
   ],
   "source": [
    "from flask import Flask\n",
    "\n",
    "app = Flask(__name__)\n",
    "\n",
    "@app.before_request\n",
    "def before_request():\n",
    "    \"\"\"\n",
    "    This function is run at the beginning of every web request \n",
    "    (every time you enter an address in the web browser).\n",
    "    We use it to setup a database connection that can be used throughout the request.\n",
    "\n",
    "    The variable g is globally accessible.\n",
    "    \"\"\"\n",
    "    try:\n",
    "        g.conn = engine.connect()\n",
    "    except:\n",
    "        print(\"uh oh, problem connecting to database\")\n",
    "        import traceback; traceback.print_exc()\n",
    "        g.conn = None\n",
    "@app.teardown_request\n",
    "def teardown_request(exception):\n",
    "    \"\"\"\n",
    "    At the end of the web request, this makes sure to close the database connection.\n",
    "    If you don't, the database could run out of memory!\n",
    "    \"\"\"\n",
    "    try:\n",
    "        g.conn.close()\n",
    "    except Exception as e:\n",
    "        pass\n",
    "\n",
    "@app.route('/')\n",
    "def home():\n",
    "    return render_template(\"home.html\")\n",
    "\n",
    "@app.route(\"/<name>\")\n",
    "def user(name):\n",
    "    return f\"Hello {name}!\"\n",
    "\n",
    "@app.route(\"/login\", methods=[\"POST\", \"GET\"])\n",
    "def login():\n",
    "    if request.method == \"POST\":\n",
    "        user = request.form[\"nm\"]\n",
    "        return redirect(url_for(\"user\", usr=user))\n",
    "    else:\n",
    "        return render_template(\"login.html\")\n",
    "\n",
    "\n",
    "\n",
    "@app.route('/home')\n",
    "def index():\n",
    "    \"\"\"\n",
    "    request is a special object that Flask provides to access web request information:\n",
    "\n",
    "    request.method:   \"GET\" or \"POST\"\n",
    "    request.form:     if the browser submitted a form, this contains the data in the form\n",
    "    request.args:     dictionary of URL arguments, e.g., {a:1, b:2} for http://localhost?a=1&b=2\n",
    "\n",
    "    See its API: https://flask.palletsprojects.com/en/1.1.x/api/#incoming-request-data\n",
    "    \"\"\"\n",
    "\n",
    "    # DEBUG: this is debugging code to see what request looks like\n",
    "    print(request.args)\n",
    "    #\n",
    "    # example of a database query\n",
    "    #\n",
    "    names = []\n",
    "    select_query = \"SELECT name from test\"\n",
    "    cursor = g.conn.execute(text(select_query))\n",
    "    for result in cursor:\n",
    "        names.append(result[0])\n",
    "    cursor.close()\n",
    "\n",
    "\n",
    "    context = dict(data = names)\n",
    "\n",
    "    #\n",
    "    # render_template looks in the templates/ folder for files.\n",
    "    # for example, the below file reads template/index.html\n",
    "    #\n",
    "    return render_template(\"index.html\", **context)\n",
    "\n",
    "\n",
    "if __name__ == \"__main__\":\n",
    "    app.run()"
   ]
  },
  {
   "cell_type": "code",
   "execution_count": null,
   "id": "ef476dde",
   "metadata": {},
   "outputs": [],
   "source": [
    "\n"
   ]
  },
  {
   "cell_type": "code",
   "execution_count": null,
   "id": "ef4ffe46",
   "metadata": {},
   "outputs": [],
   "source": []
  }
 ],
 "metadata": {
  "kernelspec": {
   "display_name": "Python 3 (ipykernel)",
   "language": "python",
   "name": "python3"
  },
  "language_info": {
   "codemirror_mode": {
    "name": "ipython",
    "version": 3
   },
   "file_extension": ".py",
   "mimetype": "text/x-python",
   "name": "python",
   "nbconvert_exporter": "python",
   "pygments_lexer": "ipython3",
   "version": "3.9.12"
  }
 },
 "nbformat": 4,
 "nbformat_minor": 5
}
