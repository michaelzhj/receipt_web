{
 "cells": [
  {
   "cell_type": "code",
   "execution_count": 1,
   "metadata": {},
   "outputs": [],
   "source": [
    "from sqlalchemy import *\n",
    "# from sqlalchemy.pool import NullPool\n",
    "\n",
    "DATABASE_USERNAME = \"hz2906\"\n",
    "DATABASE_PASSWRD = \"763092Kgb!\"\n",
    "DATABASE_HOST = \"35.212.75.104\" # change to 34.28.53.86 if you used database 2 for part 2\n",
    "DATABASEURI = f\"postgresql://{DATABASE_USERNAME}:{DATABASE_PASSWRD}@{DATABASE_HOST}/proj1part2\"\n",
    "\n",
    "engine = create_engine(DATABASEURI)"
   ]
  },
  {
   "cell_type": "code",
   "execution_count": 7,
   "metadata": {},
   "outputs": [
    {
     "name": "stdout",
     "output_type": "stream",
     "text": [
      "(1, 'F', 'user1@gmail.com')\n",
      "(2, 'F', 'user2@gmail.com')\n",
      "(3, 'M', 'user3@gmail.com')\n"
     ]
    }
   ],
   "source": [
    "with engine.connect() as conn:\n",
    "\n",
    "\n",
    "    query = ''' select * from Users limit 3\n",
    "                '''\n",
    "    \n",
    "    res = conn.execute(text(query))\n",
    "    # you need to commit for create, insert, update queries to reflect\n",
    "    for row in res:\n",
    "        print(row)\n",
    "\n",
    "# ,Recipes.recipe_name,Recipes.cooking_time,Recipes.cooking_difficulty,Recipes.descriptions,Recipes.author_id"
   ]
  },
  {
   "cell_type": "code",
   "execution_count": 6,
   "metadata": {},
   "outputs": [],
   "source": [
    "with engine.connect() as conn:\n",
    "\n",
    "    user_id = 1\n",
    "    recipe_id = 11\n",
    "    rate = 1\n",
    "    sql_command = \"\"\"\n",
    "    INSERT INTO rating \n",
    "    VALUES (:user_id, :recipe_id, :rate)\n",
    "    \"\"\"\n",
    "    conn.execute(text(sql_command),{'user_id':user_id, 'recipe_id':recipe_id,'rate':rate})\n",
    "    conn.commit()\n",
    "    # res = conn.execute(text(insert_table_command))\n",
    "    # conn.commit()\n"
   ]
  },
  {
   "cell_type": "code",
   "execution_count": 14,
   "metadata": {},
   "outputs": [
    {
     "name": "stdout",
     "output_type": "stream",
     "text": [
      "('Chocolate Almond Marble Cheesecake', 57, 3)\n",
      "('Broiler Icing', 5, 2)\n",
      "('Wonderful Waffles', 4, 2)\n"
     ]
    }
   ],
   "source": [
    "from sqlalchemy import create_engine, text\n",
    "\n",
    "# 假设你已经定义了 engine\n",
    "# 例如: engine = create_engine('数据库连接字符串')\n",
    "\n",
    "Things = ['sugar', 'egg', 'bowl', 'knife']\n",
    "\n",
    "# 为 IN 子句中的每个项生成一个唯一的占位符\n",
    "placeholders = ', '.join([f':Things{i}' for i in range(len(Things))])\n",
    "\n",
    "# 构造 SQL 查询，使用.format()插入占位符\n",
    "query = ''' \n",
    "select recipe_name, C.recipe_id, num\n",
    "from\n",
    "    (select recipe_id, count(distinct thing) as num\n",
    "    from\n",
    "        ((select made_of as recipe_id, I_name as thing\n",
    "        from made_of)\n",
    "        union all\n",
    "        (select recipe_id, tool_name as thing\n",
    "        from require)) U\n",
    "    where thing in ({})\n",
    "    group by recipe_id\n",
    "    ) C\n",
    "    join\n",
    "    Recipes\n",
    "    on C.recipe_id = Recipes.recipe_id\n",
    "order by num desc\n",
    "limit 3\n",
    "'''.format(placeholders)\n",
    "\n",
    "# 准备参数字典\n",
    "params = {f'Things{i}': Things[i] for i in range(len(Things))}\n",
    "\n",
    "with engine.connect() as conn:\n",
    "    # 执行查询，传递参数字典\n",
    "    res = conn.execute(text(query), params)\n",
    "    \n",
    "    # 遍历并打印结果\n",
    "    for row in res:\n",
    "        print(row)\n"
   ]
  }
 ],
 "metadata": {
  "kernelspec": {
   "display_name": "base",
   "language": "python",
   "name": "python3"
  },
  "language_info": {
   "codemirror_mode": {
    "name": "ipython",
    "version": 3
   },
   "file_extension": ".py",
   "mimetype": "text/x-python",
   "name": "python",
   "nbconvert_exporter": "python",
   "pygments_lexer": "ipython3",
   "version": "3.7.4"
  }
 },
 "nbformat": 4,
 "nbformat_minor": 2
}
