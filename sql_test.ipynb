{
 "cells": [
  {
   "cell_type": "code",
   "execution_count": 19,
   "metadata": {},
   "outputs": [],
   "source": [
    "from sqlalchemy import *\n",
    "# from sqlalchemy.pool import NullPool\n",
    "\n",
    "DATABASE_USERNAME = \"hz2906\"\n",
    "DATABASE_PASSWRD = \"763092Kgb!\"\n",
    "DATABASE_HOST = \"35.212.75.104\" # change to 34.28.53.86 if you used database 2 for part 2\n",
    "DATABASEURI = f\"postgresql://{DATABASE_USERNAME}:{DATABASE_PASSWRD}@{DATABASE_HOST}/proj1part2\"\n",
    "\n",
    "engine = create_engine(DATABASEURI)"
   ]
  },
  {
   "cell_type": "code",
   "execution_count": 28,
   "metadata": {},
   "outputs": [],
   "source": [
    "with engine.connect() as conn:\n",
    "    # query = ''' select Recipes.*\n",
    "    #             from\n",
    "    #             (select recipe_id \n",
    "    #             from rating \n",
    "    #             group by recipe_id \n",
    "    #             order by avg(rating_score) desc \n",
    "    #             limit 3) R\n",
    "    #             join Recipes\n",
    "    #             on R.recipe_id = Recipes.recipe_id'''\n",
    "\n",
    "    query = ''' select Recipes.*\n",
    "                            from\n",
    "                            (select recipe_id \n",
    "                            from rating\n",
    "                            where recipe_id not in \n",
    "                            (select recipe_id\n",
    "                            from\n",
    "                                (select I_name\n",
    "                                from relationship \n",
    "                                where user_id = 1\n",
    "                                and action = 'dislike') R\n",
    "                                join\n",
    "                                (select \n",
    "                                made_of as recipe_id,\n",
    "                                I_name\n",
    "                                from made_of) M\n",
    "                                on R.I_name = M.I_name\n",
    "                            ) dislike_recipe\n",
    "                           group by recipe_id \n",
    "                            order by avg(rating_score) desc \n",
    "                            limit 3) R\n",
    "                            join Recipes\n",
    "                            on R.recipe_id = Recipes.recipe_id\n",
    "            '''\n",
    "    res = conn.execute(text(query))\n",
    "    # you need to commit for create, insert, update queries to reflect\n",
    "    for row in res:\n",
    "        print(row)\n",
    "\n",
    "# ,Recipes.recipe_name,Recipes.cooking_time,Recipes.cooking_difficulty,Recipes.descriptions,Recipes.author_id"
   ]
  },
  {
   "cell_type": "code",
   "execution_count": null,
   "metadata": {},
   "outputs": [],
   "source": []
  }
 ],
 "metadata": {
  "kernelspec": {
   "display_name": "base",
   "language": "python",
   "name": "python3"
  },
  "language_info": {
   "codemirror_mode": {
    "name": "ipython",
    "version": 3
   },
   "file_extension": ".py",
   "mimetype": "text/x-python",
   "name": "python",
   "nbconvert_exporter": "python",
   "pygments_lexer": "ipython3",
   "version": "3.7.4"
  }
 },
 "nbformat": 4,
 "nbformat_minor": 2
}
